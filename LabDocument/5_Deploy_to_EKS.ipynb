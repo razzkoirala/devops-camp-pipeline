{
  "nbformat": 4,
  "nbformat_minor": 0,
  "metadata": {
    "colab": {
      "provenance": [],
      "toc_visible": true,
      "include_colab_link": true
    },
    "kernelspec": {
      "name": "python3",
      "display_name": "Python 3"
    },
    "language_info": {
      "name": "python"
    }
  },
  "cells": [
    {
      "cell_type": "markdown",
      "metadata": {
        "id": "view-in-github",
        "colab_type": "text"
      },
      "source": [
        "<a href=\"https://colab.research.google.com/github/razzkoirala/devops-camp-pipeline/blob/main/LabDocument/5_Deploy_to_EKS.ipynb\" target=\"_parent\"><img src=\"https://colab.research.google.com/assets/colab-badge.svg\" alt=\"Open In Colab\"/></a>"
      ]
    },
    {
      "cell_type": "markdown",
      "metadata": {
        "id": "vyaZJ0weW6Jc"
      },
      "source": [
        "# Deploy to EKS\n",
        "\n",
        "Updated 5/5/2022"
      ]
    },
    {
      "cell_type": "markdown",
      "metadata": {
        "id": "u3CTlLiGW-jb"
      },
      "source": [
        "## Overview\n",
        "In this lab, students will learn how to integrate EKS with Harbor and Jenkins to deploy their application as a running service.\n",
        "\n",
        "**Estimated time:** 1 hr\n",
        "\n",
        "\n"
      ]
    },
    {
      "cell_type": "markdown",
      "metadata": {
        "id": "hRVvl9JiXTjl"
      },
      "source": [
        "## Learning Objectives\n",
        "\n",
        "1. Setup command line tools  \n",
        "\n",
        "2. Write the secret YAML file  \n",
        "\n",
        "3. Write the deployment YAML files  \n",
        "\n",
        "4. Write the service YAML files  \n",
        "\n",
        "5. Create the deployments  \n",
        "\n",
        "6. Validate application post-deployment in EKS\n",
        "\n",
        "7. Update the Jenkins pipeline\n"
      ]
    },
    {
      "cell_type": "markdown",
      "metadata": {
        "id": "7sm0_IYZYBX0"
      },
      "source": [
        "# Instructions\n",
        "\n"
      ]
    },
    {
      "cell_type": "markdown",
      "metadata": {
        "id": "AQM4EHTxzfzG"
      },
      "source": [
        "## Initial Setup"
      ]
    },
    {
      "cell_type": "markdown",
      "metadata": {
        "id": "BvA1A_r4XhMq"
      },
      "source": [
        "1. Open VSCode and enter the lab environment you created in the containerization lab.\n",
        "\n",
        "2. In the integrated terminal, run the following command to enter your aws credentials:\n",
        "```\n",
        "aws configure\n",
        "```\n",
        "\n",
        " > **Note:** AWS credentials will be given to you. For \"Default output format\" just hit enter.\n",
        "\n",
        "3.\tUpdate kubectl to point to the EKS cluster you’ll be working with by running:\n",
        "```\n",
        "aws eks update-kubeconfig --name DevSecOps-Labs-Cluster\n",
        "```\n",
        "\n",
        "4.\tCreate the namespace in kubernetes that you’ll be working in for the remainder of this lab by running:\n",
        "```\n",
        "kubectl create namespace <FIRST NAME INITIAL + LAST NAME>\n",
        "``` \n",
        "\n",
        " > **Note:** You can verify your namespace creation by running: \n",
        " ```\n",
        " kubectl get namespace\n",
        " ```"
      ]
    },
    {
      "cell_type": "markdown",
      "metadata": {
        "id": "Oug6pXTTziB8"
      },
      "source": [
        "## Write the Secret YAML File"
      ]
    },
    {
      "cell_type": "markdown",
      "metadata": {
        "id": "AKZM2j9PY1HU"
      },
      "source": [
        "1.\tIn the VSCode \"Explorer\" pane on the left, find and open the `secrets.yaml` file in your `afs-labs-student/kubernetes` folder \n",
        "\n",
        " > **Note:** Secrets in Kubernetes contain values for use in your applications that should not be stored in plaintext, in this application they represent login information to the app’s database\n",
        "\n",
        "2.\tChange the value after `name:` to `db-secret`\n",
        "3.\tChange the value after `namespace:` to your namespace that you created earlier (first initial + lastname).\n",
        "\n",
        " > **Note:** The key-value pairs under `data:` are used to access the database. The values are encoded in base64, but in plaintext they are \"postgres,\" \"admin1,\" and \"shop,\" respectively.\n",
        "\n",
        "4. Save your changes"
      ]
    },
    {
      "cell_type": "markdown",
      "metadata": {
        "id": "r98hta9Izk2U"
      },
      "source": [
        "## Write the Deployment YAML Files"
      ]
    },
    {
      "cell_type": "markdown",
      "metadata": {
        "id": "zJOF2t7YZcFA"
      },
      "source": [
        "1.\tIn the same `kubernetes` folder as above, make a copy of `app-deployment.yaml`and name it `db-deployment.yaml`. We'll focus on **`app-deployment.yaml`** first\n",
        "  \n",
        "\n",
        "2. Open the `app-deployment.yaml` file\n",
        "\n",
        " >**Note:** Deployments are used to control how many pods (containers) are ran for a specified image – for this app you will only need one pod (i.e., replica) for each image.\n",
        "\n",
        "3.\tUpdate the following fields: `name`, `app`, `namespace`, `replicas`, `image`, and `containerPorts`\n",
        "\n",
        " a.\tSet both `name:` fields to `app-deployment`\n",
        "\n",
        "  >**Tip:** There is a `name` field under the header `secretRef` that is already filled in with \"db-secret,\" you can leave this as is since it is referencing the `secrets.yaml` file we just edited.\n",
        "  \n",
        " b.\tSet all `app:` fields to `app`\n",
        "\n",
        " c.\tSet `namespace:` to your namespace\n",
        "\n",
        " d.\tSet `replicas:` to `1 `\n",
        "  \n",
        " e.\tSet `image:` to the URL for your app’s harbor image\n",
        "  \n",
        "   <ul> i.\tTo find your image URL, go into your Harbor project, select your <code>/app</code> repository, then select the most recent artifact\n",
        "\n",
        "  ii.\tYour screen should look something like the image below:\n",
        "\n",
        "  </ul>\n"
      ]
    },
    {
      "cell_type": "markdown",
      "metadata": {
        "id": "vhUyXxtittCF"
      },
      "source": [
        "<ul>\n",
        "<figure>\n",
        "<img src=\"data:image/png;base64,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\">\n",
        "</figure>\n",
        "</ul>"
      ]
    },
    {
      "cell_type": "markdown",
      "metadata": {
        "id": "ONP7DlZ-b0UB"
      },
      "source": [
        "<ul> <ul>\n",
        " iii.\tClick the copy button under the \"Pull Command\" column for your most recent image\n",
        "\n",
        " iv.\tWhen you paste, remove “docker pull” from the pasted content\n",
        "</ul> </ul>\n",
        "\n",
        "<ul>\n",
        "\n",
        ">**Tip:** If your image URL has \"sha256:\" in it, you've copied the wrong one. You'll need to click on the most recent object, then copy and paste the URL into your document.\n",
        "\n",
        "f. Set `containerPort:` to `5000` \n",
        "\n",
        "g. Save your changes\n",
        "\n",
        "</ul>\n"
      ]
    },
    {
      "cell_type": "markdown",
      "source": [
        "<ul>\n",
        "\n",
        " > **Explanation of relevant code snippets:**\n",
        ">\n",
        ">```\n",
        " - envFrom:\n",
        "     - secretRef:\n",
        "         name: db-secret\n",
        "```\n",
        "> This adds the environment variables from the `secrets.yaml` file you edited earlier.\n",
        ">\n",
        ">```\n",
        "  strategy:\n",
        "    type: Recreate\n",
        "  minReadySeconds: 20\n",
        "```\n",
        ">\n",
        " >  \n",
        " > This is an update strategy and readiness delay, which define how the deployment is updated when a new image is deployed. For now, the strategy is set to `Recreate`, which will delete all the old pods and start them back up with the updated image\n",
        ">\n",
        "> The `minReadySeconds` are set to 20 so you should be able to see the pods being updated\n",
        "\n",
        "</ul>"
      ],
      "metadata": {
        "id": "MPosZcXGJ23R"
      }
    },
    {
      "cell_type": "markdown",
      "metadata": {
        "id": "rYjUZ1VYcUDM"
      },
      "source": [
        "4.\tNow we'll edit **`db-deployment.yaml`**. Update `db-deployment.yaml` in the following fields: `name`, `namespace`, `app`, `image`, and `containerPorts`\n",
        "\n",
        " a.\tSet both `name:` fields to `db-deployment`\n",
        "\n",
        " b. Set `namespace:` to your namespace\n",
        "\n",
        " c.\tSet all `app:` fields to `db`\n",
        "\n",
        " d. Set `replicas:` to `1 `\n",
        "\n",
        " e.\tSet `image:` to the URL for your database’s harbor image\n",
        "\n",
        "<ul>\n",
        "\n",
        "  <ul>\n",
        "  i.\tTo find the database image URL follow the same steps to find the application image URL but select the <code>/db</code> repository\n",
        "  </ul> \n",
        "\n",
        "f.\tSet `containerPort:` to `5432` \n",
        "\n",
        "g. Save your changes\n",
        "</ul>\n"
      ]
    },
    {
      "cell_type": "markdown",
      "metadata": {
        "id": "5BmxGSG4znwQ"
      },
      "source": [
        "## Write the Service YAML Files"
      ]
    },
    {
      "cell_type": "markdown",
      "metadata": {
        "id": "BQtST5DDdAFd"
      },
      "source": [
        "1.\tMake a copy of the `app-service.yaml` file and name it `db-service.yaml`. We'll focus on **`app-service.yaml`** first.\n",
        "\n",
        " > **Note:** Services are used to expose your running pods so that they can be accessed either from other pods within or other users outside of the Kubernetes cluster.\n",
        "\n",
        "2.\tUpdate the following fields in `app-service.yaml`: `name`, `app`, `namespace`, `type`, `protocol`, `port`, and `targetPort`\n",
        "\n",
        " a.\tSet the first `name:` field to `app-service`\n",
        "\n",
        " b.\tSet `namespace:` to your namespace\n",
        "\n",
        " c.\tThe `app:` field's value should match that of the app deployment file, in this case, `app`\n",
        "\n",
        "  e.\tSet the second `name:` to \"5000\" (including the quotation marks)\n",
        "\n",
        " f.\tSet `port:` and `targetPort:` both to `5000`\n",
        "\n",
        "  > **Explanation of relevant code snippets:** \n",
        "  ```\n",
        "  type: NodePort\n",
        "  ``` \n",
        "  This exposes a port to be accessed outside of the cluster’s network\n",
        "\n",
        "3.\tSave your edits to `app-service.yaml`.\n",
        "\n",
        "4.\tNow we'll edit `db-service.yaml`; this will serve as your database service. Update `db-service.yaml` in the following fields: `name`, `namespace`, `app`, `type`, `protocol`, `port`, port’s name, and `targetPort`\n",
        "\n",
        " a.\tSet the `name:` field to `db-service`\n",
        "\n",
        " b. Set the `namespace:` field to your namespace\n",
        "\n",
        " c.\tThe `app`: field should match that of the database deployment file, in this case, `db`\n",
        "\n",
        " d.\tReplace the value of `type:` with `ClusterIP`\n",
        "\n",
        " >**Note:**\t`ClusterIP` makes the pod only accessible inside of the cluster by other pods, which is useful for databases or other non-internet-facing images.\n",
        "\n",
        " e.\tReplace the value of the `name:` under `ports:` with `\"5432\"` (including the quotation marks)\n",
        "\n",
        " f.\tSet `port:` and `targetPort:` both to `5432`\n"
      ]
    },
    {
      "cell_type": "markdown",
      "metadata": {
        "id": "JacEpS8EzqQk"
      },
      "source": [
        "## Create the Deployments"
      ]
    },
    {
      "cell_type": "markdown",
      "metadata": {
        "id": "n7aVqn-petAK"
      },
      "source": [
        "1.\tEnsure that your five YAML files that you created in the previous sections are all in the same folder\n",
        "\n",
        "2. In the terminal, navigate to your `afs-labs-student` folder and push all your yaml file changes to the repository:\n",
        "  \n",
        "  a.\t`git add .`\n",
        "  \n",
        "  b.\t`git commit -m \"adding yaml files\"`\n",
        "  \n",
        "  c.\t`git push`\n",
        "\n",
        "\n",
        "3.\tIn the terminal, run the command:\n",
        "  ```\n",
        "  kubectl apply -f <FOLDER WITH YAML FILES>\n",
        "  ```\n",
        "\n",
        " > **Tip:** If you’re in the `kubernetes` folder, just run: \n",
        " ```\n",
        " kubectl apply -f ./\n",
        " ```"
      ]
    },
    {
      "cell_type": "markdown",
      "metadata": {
        "id": "jmd2BOzAzsST"
      },
      "source": [
        "##Validate Application Post-Deployment in EKS"
      ]
    },
    {
      "cell_type": "markdown",
      "metadata": {
        "id": "8HJZpUbQfAGq"
      },
      "source": [
        "1.\tIn the terminal, run the command:\n",
        "  ```\n",
        "  kubectl -n <YOUR NAMESPACE> get pod\n",
        "  ``` \n",
        "  to verify that your pods were created correctly\n",
        "\n",
        " > **Understanding your results:**\n",
        ">\n",
        "> If the pods were created correctly, then for both deployments there would be `1/1` under the “Ready” column. If they were not created correctly, then you will see `0/1`\n",
        ">\n",
        "> You can debug what went wrong by using the command: `kubectl -n <YOUR NAMESPACE> logs <MALFUNCTIONING POD NAME>` or `kubectl -n <YOUR NAMESPACE> describe pod <MALFUNCTIONING POD NAME>`\n",
        "\n",
        "2.\tRun \n",
        "```\n",
        "kubectl -n <YOUR NAMESPACE> describe pod <APPLICATION POD NAME>\n",
        "```\n",
        "> **Tip:** The application pod name is the one that starts with \"app-deployment\" in the output of the previous `get pod` command.\n",
        " \n",
        "  a.\tTake note of the name of the node on the fourth line down of the output, the one that starts with \"Node\"\n",
        "\n",
        "3.\tRun \n",
        "```\n",
        "kubectl get node -o wide\n",
        "```\n",
        "\n",
        "  a.\tWrite down the external IP of the node that matches your pod’s node\n",
        "\n",
        "\n",
        "4.\tRun \n",
        "```\n",
        "kubectl -n <YOUR NAMESPACE> get service\n",
        "``` \n",
        "to get the port that your lab is running on (look for the `app-service` port) \n",
        "\n",
        " > **Tip:** Your output will have a column that says \"PORTS,\" under which will have numbers in the format `xxxx:yyyyy`. The port that you should use is the `yyyyy` port.\n",
        "\n",
        "5.\tNavigate to your browser and visit the following address: `<IP ADDRESS>:<PORT>`\n",
        "\n",
        "6.\tIf you see the entire site and its features, your cluster was deployed correctly!\n"
      ]
    },
    {
      "cell_type": "markdown",
      "metadata": {
        "id": "ZyAWI3rOzu0R"
      },
      "source": [
        "##Update Jenkins Pipeline"
      ]
    },
    {
      "cell_type": "markdown",
      "metadata": {
        "id": "gNqn6gW_fjO-"
      },
      "source": [
        "1.\tEdit your `devops-camp-jenkinsfile`\n",
        "\n",
        "2.\t Paste the following commands in the `stage('Deploy') {}`, _inside_ the `steps {}` block of your Jenkinsfile\n",
        "\n",
        "  a.\tChange `<YOUR NAMESPACE>` to be your EKS namespace (should be <FIRST NAME INITIAL + LAST NAME>)"
      ]
    },
    {
      "cell_type": "code",
      "metadata": {
        "id": "AJIz_n_ifp7O"
      },
      "source": [
        "sh 'kubectl -n <YOUR NAMESPACE> set image deployment/app-deployment app-deployment=$HARBOR_REGISTRY/$HARBOR_PROJECT/$APP_IMAGE_NAME:$COMMIT_HASH-$PIPELINE_HASH'\n",
        "                sh 'kubectl -n <YOUR NAMESPACE> set image deployment/db-deployment db-deployment=$HARBOR_REGISTRY/$HARBOR_PROJECT/$DB_IMAGE_NAME:$COMMIT_HASH-$PIPELINE_HASH'"
      ],
      "execution_count": null,
      "outputs": []
    },
    {
      "cell_type": "markdown",
      "metadata": {
        "id": "su0olsEHftic"
      },
      "source": [
        "<ul>\n",
        "\n",
        " > **Note:** This will automatically update the image of your application’s pods with the new images that are built each time the Jenkins pipeline is ran.\n",
        "\n",
        "b. Save the changes to your Jenkinsfile\n",
        "\n",
        "</ul>\n",
        "\n",
        "3.\tIn the terminal, navigate to your `devops-camp-pipeline` folder and push your `devops-camp-jenkinsfile` changes\n",
        "  \n",
        "  a.\t`git add .`\n",
        "  \n",
        "  b.  `git commit -m \"adding deploy steps\" devops-camp-jenkinsfile`\n",
        "\n",
        "  c.\t`git push`\n"
      ]
    },
    {
      "cell_type": "markdown",
      "source": [
        "## You're done if...\n",
        "\n",
        "\n",
        "*   A Jenkins build has been triggered after your most recent updates to either repository and there were no errors in any stage\n",
        "   * This means all stages are green and the dot on the left with the build number is gray/blue\n",
        "*   Your pods are both running and show no errors in the logs\n",
        "* Your website displays with all of the expected features\n",
        "\n"
      ],
      "metadata": {
        "id": "DjROyBwdF4lS"
      }
    },
    {
      "cell_type": "markdown",
      "metadata": {
        "id": "vw216WKUu-l5"
      },
      "source": [
        "# Appendix\n",
        "You’ll find sample completed versions of all the files used in this lab under: https://github.com/khaledAFS/sample-files/tree/main/post_eks_lab"
      ]
    }
  ]
}